{
 "cells": [
  {
   "cell_type": "code",
   "execution_count": null,
   "metadata": {},
   "outputs": [],
   "source": [
    "import os\n",
    "import pandas as pd\n",
    "import numpy as np\n",
    "os.getcwd()\n",
    "os.chdir(\n",
    "'D:\\\\OneDriveLLC\\\\2011_Desktop Data\\\\Invoices\\\\2022\\\\5_May_2022\\\\FinalInvoicesSent')\n",
    "#print(os.getcwd())\n",
    "'''\n",
    "Read files from folder first. Then Run rename function below if all in the files in the folder show up.\n",
    "This step is not necessary, i just like to view what is in the folder. \n",
    "'''\n",
    "def generator_func():\n",
    "    for count, f in enumerate(os.listdir()):\n",
    "        file_name, file_ext = os.path.splitext(f)\n",
    "        yield file_name, file_ext\n",
    "\n",
    "generator_object = generator_func()\n",
    "#display(generator_object)\n",
    "generatorlist = list(generator_object)\n",
    "#display(generatorlist)\n",
    "df_from_generator = pd.DataFrame(generatorlist,\n",
    "                                 columns=['file_name', 'file_ext'])\n",
    "display(df_from_generator)\n",
    "#######################################################################################\n",
    "'''\n",
    "I leave a # in front of the rename function after logging out\n",
    "i disable this function in case i click run upo entering. \n",
    "Once this function runs it renames all the files in the folder. \n",
    "'''\n",
    "def rename():\n",
    "    data = []\n",
    "    for count, f in enumerate(os.listdir()):\n",
    "        f_name, f_ext = os.path.splitext(f)\n",
    "        data.append(f_name)\n",
    "        f_name = f_name + '_April2022_LLC_2022-05-24'\n",
    "        new_name = f'{f_name}{f_ext}'\n",
    "        os.rename(f, new_name)\n",
    "\n",
    "rename() # "
   ]
  },
  {
   "cell_type": "code",
   "execution_count": null,
   "metadata": {},
   "outputs": [],
   "source": []
  },
  {
   "cell_type": "code",
   "execution_count": null,
   "metadata": {},
   "outputs": [],
   "source": []
  },
  {
   "cell_type": "code",
   "execution_count": null,
   "metadata": {},
   "outputs": [],
   "source": []
  }
 ],
 "metadata": {
  "kernelspec": {
   "display_name": "Python 3 (ipykernel)",
   "language": "python",
   "name": "python3"
  },
  "language_info": {
   "codemirror_mode": {
    "name": "ipython",
    "version": 3
   },
   "file_extension": ".py",
   "mimetype": "text/x-python",
   "name": "python",
   "nbconvert_exporter": "python",
   "pygments_lexer": "ipython3",
   "version": "3.8.12"
  }
 },
 "nbformat": 4,
 "nbformat_minor": 4
}
